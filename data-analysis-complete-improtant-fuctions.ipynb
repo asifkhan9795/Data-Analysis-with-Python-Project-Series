{
 "cells": [
  {
   "cell_type": "code",
   "execution_count": 1,
   "id": "25e743d0",
   "metadata": {
    "_cell_guid": "b1076dfc-b9ad-4769-8c92-a6c4dae69d19",
    "_uuid": "8f2839f25d086af736a60e9eeb907d3b93b6e0e5",
    "execution": {
     "iopub.execute_input": "2024-05-23T09:57:09.371194Z",
     "iopub.status.busy": "2024-05-23T09:57:09.370136Z",
     "iopub.status.idle": "2024-05-23T09:57:10.229592Z",
     "shell.execute_reply": "2024-05-23T09:57:10.228435Z"
    },
    "papermill": {
     "duration": 0.870054,
     "end_time": "2024-05-23T09:57:10.232458",
     "exception": false,
     "start_time": "2024-05-23T09:57:09.362404",
     "status": "completed"
    },
    "tags": []
   },
   "outputs": [],
   "source": [
    "# This Python 3 environment comes with many helpful analytics libraries installed\n",
    "# It is defined by the kaggle/python Docker image: https://github.com/kaggle/docker-python\n",
    "# For example, here's several helpful packages to load\n",
    "\n",
    "import numpy as np # linear algebra\n",
    "import pandas as pd # data processing, CSV file I/O (e.g. pd.read_csv)\n",
    "\n",
    "# Input data files are available in the read-only \"../input/\" directory\n",
    "# For example, running this (by clicking run or pressing Shift+Enter) will list all files under the input directory\n",
    "\n",
    "import os\n",
    "for dirname, _, filenames in os.walk('/kaggle/input'):\n",
    "    for filename in filenames:\n",
    "        file = os.path.join(dirname, filename)\n",
    "        data = pd.read_csv(file)\n",
    "\n",
    "# You can write up to 20GB to the current directory (/kaggle/working/) that gets preserved as output when you create a version using \"Save & Run All\" \n",
    "# You can also write temporary files to /kaggle/temp/, but they won't be saved outside of the current session"
   ]
  },
  {
   "cell_type": "markdown",
   "id": "633abbdd",
   "metadata": {
    "papermill": {
     "duration": 0.00547,
     "end_time": "2024-05-23T09:57:10.244836",
     "exception": false,
     "start_time": "2024-05-23T09:57:10.239366",
     "status": "completed"
    },
    "tags": []
   },
   "source": [
    "# **Data Exploration Steps and Some Improtant Fuctions:**"
   ]
  },
  {
   "cell_type": "code",
   "execution_count": 2,
   "id": "d82f4d62",
   "metadata": {
    "execution": {
     "iopub.execute_input": "2024-05-23T09:57:10.257362Z",
     "iopub.status.busy": "2024-05-23T09:57:10.256958Z",
     "iopub.status.idle": "2024-05-23T09:57:10.295432Z",
     "shell.execute_reply": "2024-05-23T09:57:10.294387Z"
    },
    "papermill": {
     "duration": 0.047619,
     "end_time": "2024-05-23T09:57:10.297965",
     "exception": false,
     "start_time": "2024-05-23T09:57:10.250346",
     "status": "completed"
    },
    "tags": []
   },
   "outputs": [
    {
     "data": {
      "text/html": [
       "<div>\n",
       "<style scoped>\n",
       "    .dataframe tbody tr th:only-of-type {\n",
       "        vertical-align: middle;\n",
       "    }\n",
       "\n",
       "    .dataframe tbody tr th {\n",
       "        vertical-align: top;\n",
       "    }\n",
       "\n",
       "    .dataframe thead th {\n",
       "        text-align: right;\n",
       "    }\n",
       "</style>\n",
       "<table border=\"1\" class=\"dataframe\">\n",
       "  <thead>\n",
       "    <tr style=\"text-align: right;\">\n",
       "      <th></th>\n",
       "      <th>Make</th>\n",
       "      <th>Model</th>\n",
       "      <th>Type</th>\n",
       "      <th>Origin</th>\n",
       "      <th>DriveTrain</th>\n",
       "      <th>MSRP</th>\n",
       "      <th>Invoice</th>\n",
       "      <th>EngineSize</th>\n",
       "      <th>Cylinders</th>\n",
       "      <th>Horsepower</th>\n",
       "      <th>MPG_City</th>\n",
       "      <th>MPG_Highway</th>\n",
       "      <th>Weight</th>\n",
       "      <th>Wheelbase</th>\n",
       "      <th>Length</th>\n",
       "    </tr>\n",
       "  </thead>\n",
       "  <tbody>\n",
       "    <tr>\n",
       "      <th>0</th>\n",
       "      <td>Acura</td>\n",
       "      <td>MDX</td>\n",
       "      <td>SUV</td>\n",
       "      <td>Asia</td>\n",
       "      <td>All</td>\n",
       "      <td>$36,945</td>\n",
       "      <td>$33,337</td>\n",
       "      <td>3.5</td>\n",
       "      <td>6.0</td>\n",
       "      <td>265</td>\n",
       "      <td>17</td>\n",
       "      <td>23</td>\n",
       "      <td>4451</td>\n",
       "      <td>106</td>\n",
       "      <td>189</td>\n",
       "    </tr>\n",
       "    <tr>\n",
       "      <th>1</th>\n",
       "      <td>Acura</td>\n",
       "      <td>RSX Type S 2dr</td>\n",
       "      <td>Sedan</td>\n",
       "      <td>Asia</td>\n",
       "      <td>Front</td>\n",
       "      <td>$23,820</td>\n",
       "      <td>$21,761</td>\n",
       "      <td>2.0</td>\n",
       "      <td>4.0</td>\n",
       "      <td>200</td>\n",
       "      <td>24</td>\n",
       "      <td>31</td>\n",
       "      <td>2778</td>\n",
       "      <td>101</td>\n",
       "      <td>172</td>\n",
       "    </tr>\n",
       "    <tr>\n",
       "      <th>2</th>\n",
       "      <td>Acura</td>\n",
       "      <td>TSX 4dr</td>\n",
       "      <td>Sedan</td>\n",
       "      <td>Asia</td>\n",
       "      <td>Front</td>\n",
       "      <td>$26,990</td>\n",
       "      <td>$24,647</td>\n",
       "      <td>2.4</td>\n",
       "      <td>4.0</td>\n",
       "      <td>200</td>\n",
       "      <td>22</td>\n",
       "      <td>29</td>\n",
       "      <td>3230</td>\n",
       "      <td>105</td>\n",
       "      <td>183</td>\n",
       "    </tr>\n",
       "    <tr>\n",
       "      <th>3</th>\n",
       "      <td>Acura</td>\n",
       "      <td>TL 4dr</td>\n",
       "      <td>Sedan</td>\n",
       "      <td>Asia</td>\n",
       "      <td>Front</td>\n",
       "      <td>$33,195</td>\n",
       "      <td>$30,299</td>\n",
       "      <td>3.2</td>\n",
       "      <td>6.0</td>\n",
       "      <td>270</td>\n",
       "      <td>20</td>\n",
       "      <td>28</td>\n",
       "      <td>3575</td>\n",
       "      <td>108</td>\n",
       "      <td>186</td>\n",
       "    </tr>\n",
       "    <tr>\n",
       "      <th>4</th>\n",
       "      <td>Acura</td>\n",
       "      <td>3.5 RL 4dr</td>\n",
       "      <td>Sedan</td>\n",
       "      <td>Asia</td>\n",
       "      <td>Front</td>\n",
       "      <td>$43,755</td>\n",
       "      <td>$39,014</td>\n",
       "      <td>3.5</td>\n",
       "      <td>6.0</td>\n",
       "      <td>225</td>\n",
       "      <td>18</td>\n",
       "      <td>24</td>\n",
       "      <td>3880</td>\n",
       "      <td>115</td>\n",
       "      <td>197</td>\n",
       "    </tr>\n",
       "    <tr>\n",
       "      <th>...</th>\n",
       "      <td>...</td>\n",
       "      <td>...</td>\n",
       "      <td>...</td>\n",
       "      <td>...</td>\n",
       "      <td>...</td>\n",
       "      <td>...</td>\n",
       "      <td>...</td>\n",
       "      <td>...</td>\n",
       "      <td>...</td>\n",
       "      <td>...</td>\n",
       "      <td>...</td>\n",
       "      <td>...</td>\n",
       "      <td>...</td>\n",
       "      <td>...</td>\n",
       "      <td>...</td>\n",
       "    </tr>\n",
       "    <tr>\n",
       "      <th>423</th>\n",
       "      <td>Volvo</td>\n",
       "      <td>C70 LPT convertible 2dr</td>\n",
       "      <td>Sedan</td>\n",
       "      <td>Europe</td>\n",
       "      <td>Front</td>\n",
       "      <td>$40,565</td>\n",
       "      <td>$38,203</td>\n",
       "      <td>2.4</td>\n",
       "      <td>5.0</td>\n",
       "      <td>197</td>\n",
       "      <td>21</td>\n",
       "      <td>28</td>\n",
       "      <td>3450</td>\n",
       "      <td>105</td>\n",
       "      <td>186</td>\n",
       "    </tr>\n",
       "    <tr>\n",
       "      <th>424</th>\n",
       "      <td>Volvo</td>\n",
       "      <td>C70 HPT convertible 2dr</td>\n",
       "      <td>Sedan</td>\n",
       "      <td>Europe</td>\n",
       "      <td>Front</td>\n",
       "      <td>$42,565</td>\n",
       "      <td>$40,083</td>\n",
       "      <td>2.3</td>\n",
       "      <td>5.0</td>\n",
       "      <td>242</td>\n",
       "      <td>20</td>\n",
       "      <td>26</td>\n",
       "      <td>3450</td>\n",
       "      <td>105</td>\n",
       "      <td>186</td>\n",
       "    </tr>\n",
       "    <tr>\n",
       "      <th>425</th>\n",
       "      <td>Volvo</td>\n",
       "      <td>S80 T6 4dr</td>\n",
       "      <td>Sedan</td>\n",
       "      <td>Europe</td>\n",
       "      <td>Front</td>\n",
       "      <td>$45,210</td>\n",
       "      <td>$42,573</td>\n",
       "      <td>2.9</td>\n",
       "      <td>6.0</td>\n",
       "      <td>268</td>\n",
       "      <td>19</td>\n",
       "      <td>26</td>\n",
       "      <td>3653</td>\n",
       "      <td>110</td>\n",
       "      <td>190</td>\n",
       "    </tr>\n",
       "    <tr>\n",
       "      <th>426</th>\n",
       "      <td>Volvo</td>\n",
       "      <td>V40</td>\n",
       "      <td>Wagon</td>\n",
       "      <td>Europe</td>\n",
       "      <td>Front</td>\n",
       "      <td>$26,135</td>\n",
       "      <td>$24,641</td>\n",
       "      <td>1.9</td>\n",
       "      <td>4.0</td>\n",
       "      <td>170</td>\n",
       "      <td>22</td>\n",
       "      <td>29</td>\n",
       "      <td>2822</td>\n",
       "      <td>101</td>\n",
       "      <td>180</td>\n",
       "    </tr>\n",
       "    <tr>\n",
       "      <th>427</th>\n",
       "      <td>Volvo</td>\n",
       "      <td>XC70</td>\n",
       "      <td>Wagon</td>\n",
       "      <td>Europe</td>\n",
       "      <td>All</td>\n",
       "      <td>$35,145</td>\n",
       "      <td>$33,112</td>\n",
       "      <td>2.5</td>\n",
       "      <td>5.0</td>\n",
       "      <td>208</td>\n",
       "      <td>20</td>\n",
       "      <td>27</td>\n",
       "      <td>3823</td>\n",
       "      <td>109</td>\n",
       "      <td>186</td>\n",
       "    </tr>\n",
       "  </tbody>\n",
       "</table>\n",
       "<p>428 rows × 15 columns</p>\n",
       "</div>"
      ],
      "text/plain": [
       "      Make                    Model   Type  Origin DriveTrain     MSRP  \\\n",
       "0    Acura                      MDX    SUV    Asia        All  $36,945   \n",
       "1    Acura           RSX Type S 2dr  Sedan    Asia      Front  $23,820   \n",
       "2    Acura                  TSX 4dr  Sedan    Asia      Front  $26,990   \n",
       "3    Acura                   TL 4dr  Sedan    Asia      Front  $33,195   \n",
       "4    Acura               3.5 RL 4dr  Sedan    Asia      Front  $43,755   \n",
       "..     ...                      ...    ...     ...        ...      ...   \n",
       "423  Volvo  C70 LPT convertible 2dr  Sedan  Europe      Front  $40,565   \n",
       "424  Volvo  C70 HPT convertible 2dr  Sedan  Europe      Front  $42,565   \n",
       "425  Volvo               S80 T6 4dr  Sedan  Europe      Front  $45,210   \n",
       "426  Volvo                      V40  Wagon  Europe      Front  $26,135   \n",
       "427  Volvo                     XC70  Wagon  Europe        All  $35,145   \n",
       "\n",
       "     Invoice  EngineSize  Cylinders  Horsepower  MPG_City  MPG_Highway  \\\n",
       "0    $33,337         3.5        6.0         265        17           23   \n",
       "1    $21,761         2.0        4.0         200        24           31   \n",
       "2    $24,647         2.4        4.0         200        22           29   \n",
       "3    $30,299         3.2        6.0         270        20           28   \n",
       "4    $39,014         3.5        6.0         225        18           24   \n",
       "..       ...         ...        ...         ...       ...          ...   \n",
       "423  $38,203         2.4        5.0         197        21           28   \n",
       "424  $40,083         2.3        5.0         242        20           26   \n",
       "425  $42,573         2.9        6.0         268        19           26   \n",
       "426  $24,641         1.9        4.0         170        22           29   \n",
       "427  $33,112         2.5        5.0         208        20           27   \n",
       "\n",
       "     Weight  Wheelbase  Length  \n",
       "0      4451        106     189  \n",
       "1      2778        101     172  \n",
       "2      3230        105     183  \n",
       "3      3575        108     186  \n",
       "4      3880        115     197  \n",
       "..      ...        ...     ...  \n",
       "423    3450        105     186  \n",
       "424    3450        105     186  \n",
       "425    3653        110     190  \n",
       "426    2822        101     180  \n",
       "427    3823        109     186  \n",
       "\n",
       "[428 rows x 15 columns]"
      ]
     },
     "execution_count": 2,
     "metadata": {},
     "output_type": "execute_result"
    }
   ],
   "source": [
    "data"
   ]
  },
  {
   "cell_type": "markdown",
   "id": "bfbfaeeb",
   "metadata": {
    "papermill": {
     "duration": 0.005484,
     "end_time": "2024-05-23T09:57:10.309485",
     "exception": false,
     "start_time": "2024-05-23T09:57:10.304001",
     "status": "completed"
    },
    "tags": []
   },
   "source": [
    "# **1.**  **data.info()**\n",
    "***To get basic information about dataset***"
   ]
  },
  {
   "cell_type": "code",
   "execution_count": 3,
   "id": "fe1e4157",
   "metadata": {
    "execution": {
     "iopub.execute_input": "2024-05-23T09:57:10.322512Z",
     "iopub.status.busy": "2024-05-23T09:57:10.322130Z",
     "iopub.status.idle": "2024-05-23T09:57:10.344522Z",
     "shell.execute_reply": "2024-05-23T09:57:10.343330Z"
    },
    "papermill": {
     "duration": 0.031821,
     "end_time": "2024-05-23T09:57:10.347011",
     "exception": false,
     "start_time": "2024-05-23T09:57:10.315190",
     "status": "completed"
    },
    "tags": []
   },
   "outputs": [
    {
     "name": "stdout",
     "output_type": "stream",
     "text": [
      "<class 'pandas.core.frame.DataFrame'>\n",
      "RangeIndex: 428 entries, 0 to 427\n",
      "Data columns (total 15 columns):\n",
      " #   Column       Non-Null Count  Dtype  \n",
      "---  ------       --------------  -----  \n",
      " 0   Make         428 non-null    object \n",
      " 1   Model        428 non-null    object \n",
      " 2   Type         428 non-null    object \n",
      " 3   Origin       428 non-null    object \n",
      " 4   DriveTrain   428 non-null    object \n",
      " 5   MSRP         428 non-null    object \n",
      " 6   Invoice      428 non-null    object \n",
      " 7   EngineSize   428 non-null    float64\n",
      " 8   Cylinders    426 non-null    float64\n",
      " 9   Horsepower   428 non-null    int64  \n",
      " 10  MPG_City     428 non-null    int64  \n",
      " 11  MPG_Highway  428 non-null    int64  \n",
      " 12  Weight       428 non-null    int64  \n",
      " 13  Wheelbase    428 non-null    int64  \n",
      " 14  Length       428 non-null    int64  \n",
      "dtypes: float64(2), int64(6), object(7)\n",
      "memory usage: 50.3+ KB\n"
     ]
    }
   ],
   "source": [
    "# sum of all the fuctions used for information about the dataset like [data.shape(), data.nunique(), data.column(), data.dtype()\n",
    "data.info() # Shows the basic information about the dataset. "
   ]
  },
  {
   "cell_type": "markdown",
   "id": "0836b77a",
   "metadata": {
    "papermill": {
     "duration": 0.005625,
     "end_time": "2024-05-23T09:57:10.358734",
     "exception": false,
     "start_time": "2024-05-23T09:57:10.353109",
     "status": "completed"
    },
    "tags": []
   },
   "source": [
    "# **Missing & Duplicate Values in Dataframe**"
   ]
  },
  {
   "cell_type": "markdown",
   "id": "2c10e9fa",
   "metadata": {
    "papermill": {
     "duration": 0.005625,
     "end_time": "2024-05-23T09:57:10.370188",
     "exception": false,
     "start_time": "2024-05-23T09:57:10.364563",
     "status": "completed"
    },
    "tags": []
   },
   "source": [
    "# **2.  data.isna()**\n",
    "***gives the count of all missing values in dataframe***\n",
    "\n",
    "***we can replace these null values with different techniques but sometime removing null values results lead the model to baisness***"
   ]
  },
  {
   "cell_type": "code",
   "execution_count": 4,
   "id": "49f49f28",
   "metadata": {
    "execution": {
     "iopub.execute_input": "2024-05-23T09:57:10.383734Z",
     "iopub.status.busy": "2024-05-23T09:57:10.383339Z",
     "iopub.status.idle": "2024-05-23T09:57:10.392740Z",
     "shell.execute_reply": "2024-05-23T09:57:10.391453Z"
    },
    "papermill": {
     "duration": 0.018997,
     "end_time": "2024-05-23T09:57:10.395186",
     "exception": false,
     "start_time": "2024-05-23T09:57:10.376189",
     "status": "completed"
    },
    "tags": []
   },
   "outputs": [
    {
     "data": {
      "text/plain": [
       "Make           0\n",
       "Model          0\n",
       "Type           0\n",
       "Origin         0\n",
       "DriveTrain     0\n",
       "MSRP           0\n",
       "Invoice        0\n",
       "EngineSize     0\n",
       "Cylinders      2\n",
       "Horsepower     0\n",
       "MPG_City       0\n",
       "MPG_Highway    0\n",
       "Weight         0\n",
       "Wheelbase      0\n",
       "Length         0\n",
       "dtype: int64"
      ]
     },
     "execution_count": 4,
     "metadata": {},
     "output_type": "execute_result"
    }
   ],
   "source": [
    "data.isna().sum() # in this dataset the only null values lies in Cylinders which is \"2\"."
   ]
  },
  {
   "cell_type": "markdown",
   "id": "5daad962",
   "metadata": {
    "papermill": {
     "duration": 0.005899,
     "end_time": "2024-05-23T09:57:10.407426",
     "exception": false,
     "start_time": "2024-05-23T09:57:10.401527",
     "status": "completed"
    },
    "tags": []
   },
   "source": [
    "***gives the count of all non null values in dataframe***"
   ]
  },
  {
   "cell_type": "code",
   "execution_count": 5,
   "id": "edee5ec1",
   "metadata": {
    "execution": {
     "iopub.execute_input": "2024-05-23T09:57:10.422082Z",
     "iopub.status.busy": "2024-05-23T09:57:10.421680Z",
     "iopub.status.idle": "2024-05-23T09:57:10.431405Z",
     "shell.execute_reply": "2024-05-23T09:57:10.430288Z"
    },
    "papermill": {
     "duration": 0.019866,
     "end_time": "2024-05-23T09:57:10.433817",
     "exception": false,
     "start_time": "2024-05-23T09:57:10.413951",
     "status": "completed"
    },
    "tags": []
   },
   "outputs": [
    {
     "data": {
      "text/plain": [
       "Make           428\n",
       "Model          428\n",
       "Type           428\n",
       "Origin         428\n",
       "DriveTrain     428\n",
       "MSRP           428\n",
       "Invoice        428\n",
       "EngineSize     428\n",
       "Cylinders      426\n",
       "Horsepower     428\n",
       "MPG_City       428\n",
       "MPG_Highway    428\n",
       "Weight         428\n",
       "Wheelbase      428\n",
       "Length         428\n",
       "dtype: int64"
      ]
     },
     "execution_count": 5,
     "metadata": {},
     "output_type": "execute_result"
    }
   ],
   "source": [
    "data.notna().sum() # "
   ]
  },
  {
   "cell_type": "markdown",
   "id": "908be1b8",
   "metadata": {
    "papermill": {
     "duration": 0.006021,
     "end_time": "2024-05-23T09:57:10.446242",
     "exception": false,
     "start_time": "2024-05-23T09:57:10.440221",
     "status": "completed"
    },
    "tags": []
   },
   "source": [
    "****Method for replacing null values****\n",
    "\n",
    "****Replacing the null value with the mean of that speacific column \"Cylinder\"****"
   ]
  },
  {
   "cell_type": "code",
   "execution_count": 6,
   "id": "3f1be5d3",
   "metadata": {
    "execution": {
     "iopub.execute_input": "2024-05-23T09:57:10.460370Z",
     "iopub.status.busy": "2024-05-23T09:57:10.459985Z",
     "iopub.status.idle": "2024-05-23T09:57:10.471659Z",
     "shell.execute_reply": "2024-05-23T09:57:10.470329Z"
    },
    "papermill": {
     "duration": 0.021683,
     "end_time": "2024-05-23T09:57:10.474126",
     "exception": false,
     "start_time": "2024-05-23T09:57:10.452443",
     "status": "completed"
    },
    "tags": []
   },
   "outputs": [
    {
     "name": "stderr",
     "output_type": "stream",
     "text": [
      "/tmp/ipykernel_18/2510048671.py:1: FutureWarning: A value is trying to be set on a copy of a DataFrame or Series through chained assignment using an inplace method.\n",
      "The behavior will change in pandas 3.0. This inplace method will never work because the intermediate object on which we are setting values always behaves as a copy.\n",
      "\n",
      "For example, when doing 'df[col].method(value, inplace=True)', try using 'df.method({col: value}, inplace=True)' or df[col] = df[col].method(value) instead, to perform the operation inplace on the original object.\n",
      "\n",
      "\n",
      "  data['Cylinders'].fillna(data['Cylinders'].mean(), inplace = True)\n"
     ]
    },
    {
     "data": {
      "text/plain": [
       "Make           0\n",
       "Model          0\n",
       "Type           0\n",
       "Origin         0\n",
       "DriveTrain     0\n",
       "MSRP           0\n",
       "Invoice        0\n",
       "EngineSize     0\n",
       "Cylinders      0\n",
       "Horsepower     0\n",
       "MPG_City       0\n",
       "MPG_Highway    0\n",
       "Weight         0\n",
       "Wheelbase      0\n",
       "Length         0\n",
       "dtype: int64"
      ]
     },
     "execution_count": 6,
     "metadata": {},
     "output_type": "execute_result"
    }
   ],
   "source": [
    "data['Cylinders'].fillna(data['Cylinders'].mean(), inplace = True)\n",
    "data.isna().sum()"
   ]
  },
  {
   "cell_type": "code",
   "execution_count": 7,
   "id": "8549f84d",
   "metadata": {
    "execution": {
     "iopub.execute_input": "2024-05-23T09:57:10.489135Z",
     "iopub.status.busy": "2024-05-23T09:57:10.488432Z",
     "iopub.status.idle": "2024-05-23T09:57:10.524171Z",
     "shell.execute_reply": "2024-05-23T09:57:10.522958Z"
    },
    "papermill": {
     "duration": 0.046165,
     "end_time": "2024-05-23T09:57:10.526811",
     "exception": false,
     "start_time": "2024-05-23T09:57:10.480646",
     "status": "completed"
    },
    "tags": []
   },
   "outputs": [
    {
     "data": {
      "text/html": [
       "<div>\n",
       "<style scoped>\n",
       "    .dataframe tbody tr th:only-of-type {\n",
       "        vertical-align: middle;\n",
       "    }\n",
       "\n",
       "    .dataframe tbody tr th {\n",
       "        vertical-align: top;\n",
       "    }\n",
       "\n",
       "    .dataframe thead th {\n",
       "        text-align: right;\n",
       "    }\n",
       "</style>\n",
       "<table border=\"1\" class=\"dataframe\">\n",
       "  <thead>\n",
       "    <tr style=\"text-align: right;\">\n",
       "      <th></th>\n",
       "      <th>EngineSize</th>\n",
       "      <th>Cylinders</th>\n",
       "      <th>Horsepower</th>\n",
       "      <th>MPG_City</th>\n",
       "      <th>MPG_Highway</th>\n",
       "      <th>Weight</th>\n",
       "      <th>Wheelbase</th>\n",
       "      <th>Length</th>\n",
       "    </tr>\n",
       "  </thead>\n",
       "  <tbody>\n",
       "    <tr>\n",
       "      <th>count</th>\n",
       "      <td>428.000000</td>\n",
       "      <td>428.000000</td>\n",
       "      <td>428.000000</td>\n",
       "      <td>428.000000</td>\n",
       "      <td>428.000000</td>\n",
       "      <td>428.000000</td>\n",
       "      <td>428.000000</td>\n",
       "      <td>428.000000</td>\n",
       "    </tr>\n",
       "    <tr>\n",
       "      <th>mean</th>\n",
       "      <td>3.196729</td>\n",
       "      <td>5.807512</td>\n",
       "      <td>215.885514</td>\n",
       "      <td>20.060748</td>\n",
       "      <td>26.843458</td>\n",
       "      <td>3577.953271</td>\n",
       "      <td>108.154206</td>\n",
       "      <td>186.362150</td>\n",
       "    </tr>\n",
       "    <tr>\n",
       "      <th>std</th>\n",
       "      <td>1.108595</td>\n",
       "      <td>1.554789</td>\n",
       "      <td>71.836032</td>\n",
       "      <td>5.238218</td>\n",
       "      <td>5.741201</td>\n",
       "      <td>758.983215</td>\n",
       "      <td>8.311813</td>\n",
       "      <td>14.357991</td>\n",
       "    </tr>\n",
       "    <tr>\n",
       "      <th>min</th>\n",
       "      <td>1.300000</td>\n",
       "      <td>3.000000</td>\n",
       "      <td>73.000000</td>\n",
       "      <td>10.000000</td>\n",
       "      <td>12.000000</td>\n",
       "      <td>1850.000000</td>\n",
       "      <td>89.000000</td>\n",
       "      <td>143.000000</td>\n",
       "    </tr>\n",
       "    <tr>\n",
       "      <th>25%</th>\n",
       "      <td>2.375000</td>\n",
       "      <td>4.000000</td>\n",
       "      <td>165.000000</td>\n",
       "      <td>17.000000</td>\n",
       "      <td>24.000000</td>\n",
       "      <td>3104.000000</td>\n",
       "      <td>103.000000</td>\n",
       "      <td>178.000000</td>\n",
       "    </tr>\n",
       "    <tr>\n",
       "      <th>50%</th>\n",
       "      <td>3.000000</td>\n",
       "      <td>6.000000</td>\n",
       "      <td>210.000000</td>\n",
       "      <td>19.000000</td>\n",
       "      <td>26.000000</td>\n",
       "      <td>3474.500000</td>\n",
       "      <td>107.000000</td>\n",
       "      <td>187.000000</td>\n",
       "    </tr>\n",
       "    <tr>\n",
       "      <th>75%</th>\n",
       "      <td>3.900000</td>\n",
       "      <td>6.000000</td>\n",
       "      <td>255.000000</td>\n",
       "      <td>21.250000</td>\n",
       "      <td>29.000000</td>\n",
       "      <td>3977.750000</td>\n",
       "      <td>112.000000</td>\n",
       "      <td>194.000000</td>\n",
       "    </tr>\n",
       "    <tr>\n",
       "      <th>max</th>\n",
       "      <td>8.300000</td>\n",
       "      <td>12.000000</td>\n",
       "      <td>500.000000</td>\n",
       "      <td>60.000000</td>\n",
       "      <td>66.000000</td>\n",
       "      <td>7190.000000</td>\n",
       "      <td>144.000000</td>\n",
       "      <td>238.000000</td>\n",
       "    </tr>\n",
       "  </tbody>\n",
       "</table>\n",
       "</div>"
      ],
      "text/plain": [
       "       EngineSize   Cylinders  Horsepower    MPG_City  MPG_Highway  \\\n",
       "count  428.000000  428.000000  428.000000  428.000000   428.000000   \n",
       "mean     3.196729    5.807512  215.885514   20.060748    26.843458   \n",
       "std      1.108595    1.554789   71.836032    5.238218     5.741201   \n",
       "min      1.300000    3.000000   73.000000   10.000000    12.000000   \n",
       "25%      2.375000    4.000000  165.000000   17.000000    24.000000   \n",
       "50%      3.000000    6.000000  210.000000   19.000000    26.000000   \n",
       "75%      3.900000    6.000000  255.000000   21.250000    29.000000   \n",
       "max      8.300000   12.000000  500.000000   60.000000    66.000000   \n",
       "\n",
       "            Weight   Wheelbase      Length  \n",
       "count   428.000000  428.000000  428.000000  \n",
       "mean   3577.953271  108.154206  186.362150  \n",
       "std     758.983215    8.311813   14.357991  \n",
       "min    1850.000000   89.000000  143.000000  \n",
       "25%    3104.000000  103.000000  178.000000  \n",
       "50%    3474.500000  107.000000  187.000000  \n",
       "75%    3977.750000  112.000000  194.000000  \n",
       "max    7190.000000  144.000000  238.000000  "
      ]
     },
     "execution_count": 7,
     "metadata": {},
     "output_type": "execute_result"
    }
   ],
   "source": [
    "data.describe()"
   ]
  },
  {
   "cell_type": "code",
   "execution_count": 8,
   "id": "c08b8eef",
   "metadata": {
    "execution": {
     "iopub.execute_input": "2024-05-23T09:57:10.543723Z",
     "iopub.status.busy": "2024-05-23T09:57:10.543339Z",
     "iopub.status.idle": "2024-05-23T09:57:10.557981Z",
     "shell.execute_reply": "2024-05-23T09:57:10.556930Z"
    },
    "papermill": {
     "duration": 0.025382,
     "end_time": "2024-05-23T09:57:10.560458",
     "exception": false,
     "start_time": "2024-05-23T09:57:10.535076",
     "status": "completed"
    },
    "tags": []
   },
   "outputs": [
    {
     "data": {
      "text/html": [
       "<div>\n",
       "<style scoped>\n",
       "    .dataframe tbody tr th:only-of-type {\n",
       "        vertical-align: middle;\n",
       "    }\n",
       "\n",
       "    .dataframe tbody tr th {\n",
       "        vertical-align: top;\n",
       "    }\n",
       "\n",
       "    .dataframe thead th {\n",
       "        text-align: right;\n",
       "    }\n",
       "</style>\n",
       "<table border=\"1\" class=\"dataframe\">\n",
       "  <thead>\n",
       "    <tr style=\"text-align: right;\">\n",
       "      <th></th>\n",
       "      <th>Make</th>\n",
       "      <th>Model</th>\n",
       "      <th>Type</th>\n",
       "      <th>Origin</th>\n",
       "      <th>DriveTrain</th>\n",
       "      <th>MSRP</th>\n",
       "      <th>Invoice</th>\n",
       "      <th>EngineSize</th>\n",
       "      <th>Cylinders</th>\n",
       "      <th>Horsepower</th>\n",
       "      <th>MPG_City</th>\n",
       "      <th>MPG_Highway</th>\n",
       "      <th>Weight</th>\n",
       "      <th>Wheelbase</th>\n",
       "      <th>Length</th>\n",
       "    </tr>\n",
       "  </thead>\n",
       "  <tbody>\n",
       "  </tbody>\n",
       "</table>\n",
       "</div>"
      ],
      "text/plain": [
       "Empty DataFrame\n",
       "Columns: [Make, Model, Type, Origin, DriveTrain, MSRP, Invoice, EngineSize, Cylinders, Horsepower, MPG_City, MPG_Highway, Weight, Wheelbase, Length]\n",
       "Index: []"
      ]
     },
     "execution_count": 8,
     "metadata": {},
     "output_type": "execute_result"
    }
   ],
   "source": [
    "data[data.duplicated()] # there are no dublicate values in dataframes"
   ]
  },
  {
   "cell_type": "code",
   "execution_count": 9,
   "id": "6a383668",
   "metadata": {
    "execution": {
     "iopub.execute_input": "2024-05-23T09:57:10.576862Z",
     "iopub.status.busy": "2024-05-23T09:57:10.576472Z",
     "iopub.status.idle": "2024-05-23T09:57:10.585022Z",
     "shell.execute_reply": "2024-05-23T09:57:10.583945Z"
    },
    "papermill": {
     "duration": 0.019354,
     "end_time": "2024-05-23T09:57:10.587363",
     "exception": false,
     "start_time": "2024-05-23T09:57:10.568009",
     "status": "completed"
    },
    "tags": []
   },
   "outputs": [],
   "source": [
    "data = data.drop_duplicates() # if there were any dublicate values these will be discorted by using drop_duplicates() fuction "
   ]
  },
  {
   "cell_type": "code",
   "execution_count": null,
   "id": "729c2bff",
   "metadata": {
    "papermill": {
     "duration": 0.007032,
     "end_time": "2024-05-23T09:57:10.601687",
     "exception": false,
     "start_time": "2024-05-23T09:57:10.594655",
     "status": "completed"
    },
    "tags": []
   },
   "outputs": [],
   "source": []
  }
 ],
 "metadata": {
  "kaggle": {
   "accelerator": "none",
   "dataSources": [
    {
     "datasetId": 6673,
     "sourceId": 9658,
     "sourceType": "datasetVersion"
    }
   ],
   "dockerImageVersionId": 30698,
   "isGpuEnabled": false,
   "isInternetEnabled": true,
   "language": "python",
   "sourceType": "notebook"
  },
  "kernelspec": {
   "display_name": "Python 3",
   "language": "python",
   "name": "python3"
  },
  "language_info": {
   "codemirror_mode": {
    "name": "ipython",
    "version": 3
   },
   "file_extension": ".py",
   "mimetype": "text/x-python",
   "name": "python",
   "nbconvert_exporter": "python",
   "pygments_lexer": "ipython3",
   "version": "3.10.13"
  },
  "papermill": {
   "default_parameters": {},
   "duration": 4.558903,
   "end_time": "2024-05-23T09:57:11.029641",
   "environment_variables": {},
   "exception": null,
   "input_path": "__notebook__.ipynb",
   "output_path": "__notebook__.ipynb",
   "parameters": {},
   "start_time": "2024-05-23T09:57:06.470738",
   "version": "2.5.0"
  }
 },
 "nbformat": 4,
 "nbformat_minor": 5
}
